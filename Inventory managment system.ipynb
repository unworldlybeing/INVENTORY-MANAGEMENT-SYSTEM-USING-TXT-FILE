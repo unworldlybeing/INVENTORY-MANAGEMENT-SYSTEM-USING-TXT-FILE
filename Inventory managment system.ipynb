{
 "cells": [
  {
   "cell_type": "code",
   "execution_count": 4,
   "id": "8d25575a-65d1-4c96-b62d-5074dda2f858",
   "metadata": {},
   "outputs": [],
   "source": [
    "fd=open(\"Inventory.txt\",'w') #CREATING A TEXT FILE IN SAME DIRECTORY\n",
    "fd.close()"
   ]
  },
  {
   "cell_type": "markdown",
   "id": "1bad9030-8aba-45bd-b4fe-33421dc0d328",
   "metadata": {},
   "source": [
    "##PRODUCT DETAILS\n",
    "1.)Product ID\n",
    "2.)Name of the product\n",
    "3.)Price of the product\n",
    "4.)Quantity"
   ]
  },
  {
   "cell_type": "code",
   "execution_count": 20,
   "id": "bbecc3a8-0a0d-461a-9463-5a19b90ae49c",
   "metadata": {},
   "outputs": [
    {
     "name": "stdout",
     "output_type": "stream",
     "text": [
      "1, creatine,800,100\n",
      "2,whey,2000,500\n",
      "3,pre,400,100\n",
      "4,fish oil,500,400\n"
     ]
    }
   ],
   "source": [
    "fd=open(\"Inventory.txt\",\"r\") #LISTING THE PRODUCTS IN INVENTORY\n",
    "products=fd.read().split(\"\\n\")\n",
    "for i in products:\n",
    "    print(i)\n",
    "fd.close()"
   ]
  },
  {
   "cell_type": "code",
   "execution_count": 41,
   "id": "9e1cebab-fece-43e7-9e90-34c70c9563cd",
   "metadata": {},
   "outputs": [
    {
     "name": "stdin",
     "output_type": "stream",
     "text": [
      "Enter your name:  Ojas\n",
      "Enter your phone number:  55555\n",
      "Enter Mail:  jahsh\n",
      "Enter the product to buy:  1\n",
      "Enter the quantity to buy:  10\n"
     ]
    },
    {
     "name": "stdout",
     "output_type": "stream",
     "text": [
      "------------------------\n",
      "Product Name-:   creatine\n",
      "Product price-:  800\n",
      "Product quantity-:  10\n",
      "------------------------\n",
      "Your Bill is:-  8000\n",
      "------------------------\n"
     ]
    }
   ],
   "source": [
    "import time #IMPORTING TIME OF TRANSACTION TO STORE IN SALES.TXT\n",
    "fd = open(\"Inventory.txt\", 'r')  # OPENING INVENTORY FILE IN READ MODE\n",
    "products = fd.read().split('\\n')  # SPLITTING BY LINE\n",
    "fd.close()\n",
    "\n",
    "ui_username=input(\"Enter your name: \")\n",
    "ui_phone=input(\"Enter your phone number: \")\n",
    "ui_mail=input(\"Enter Mail: \")\n",
    "ui_pro_id = input(\"Enter the product to buy: \")  # TAKING PRODUCT ID\n",
    "ui_pro_qn = input(\"Enter the quantity to buy: \")  # TAKING QUANTITY TO BUY\n",
    "up_pro_list = []  # TO STORE UPDATED PRODUCTS\n",
    "\n",
    "for product in products:\n",
    "    if product.strip() == \"\":  # SKIP EMPTY LINES\n",
    "        continue\n",
    "\n",
    "    prod_deatils = product.split(',')  # SPLITTING EACH PRODUCT ENTRY\n",
    "\n",
    "    if len(prod_deatils) < 4:  # SKIP MALFORMED LINES\n",
    "        continue\n",
    "\n",
    "    if prod_deatils[0] == ui_pro_id:\n",
    "        if(int(ui_pro_qn)<=int(prod_deatils[3])):\n",
    "             print(\"------------------------\")\n",
    "             print(\"Product Name-: \", prod_deatils[1])\n",
    "             print(\"Product price-: \", prod_deatils[2])\n",
    "             print(\"Product quantity-: \", ui_pro_qn)\n",
    "             print(\"------------------------\")\n",
    "             print(\"Your Bill is:- \", int(ui_pro_qn) * int(prod_deatils[2]))\n",
    "             print(\"------------------------\")\n",
    "             prod_deatils[3] = str(int(prod_deatils[3]) - int(ui_pro_qn))\n",
    "             #GENERATING SALES FILE IN SALE.TXT\n",
    "             fd=open(\"sales.txt\",'a')\n",
    "             sale_detail= sale_detail = ui_username + \",\" + ui_phone + \",\" + ui_mail + \",\" + ui_pro_id + \",\" + ui_pro_qn + \" \" + str(int(ui_pro_qn) * int(prod_deatils[2]))+ \",\" +time.ctime() + '\\n'\n",
    "             \n",
    "             fd.write(sale_detail)\n",
    "             fd.close()\n",
    "        else:\n",
    "            print(\"Sorry, We are not having enough quanity!\")\n",
    "            print(\"We are having only\",prod_deatils[3],\"quanity\")\n",
    "                \n",
    "     \n",
    "    \n",
    "       \n",
    "\n",
    "    up_pro_list.append(prod_deatils)  # ADDING EACH PRODUCT BACK TO UPDATED LIST\n",
    "\n",
    "# WRITING TO FILE\n",
    "fd = open(\"Inventory.txt\", 'w')\n",
    "\n",
    "for i in up_pro_list:\n",
    "    # SAFELY JOIN ONLY IF 4 FIELDS ARE PRESENT\n",
    "    if len(i) == 4:\n",
    "        prod = i[0] + ',' + i[1] + ',' + i[2] + ',' + i[3] + '\\n'\n",
    "        fd.write(prod)\n",
    "\n",
    "fd.close()\n"
   ]
  },
  {
   "cell_type": "code",
   "execution_count": null,
   "id": "401e72e0-fd47-41b8-8b88-b8d5c75a0427",
   "metadata": {},
   "outputs": [],
   "source": []
  },
  {
   "cell_type": "code",
   "execution_count": null,
   "id": "1c66d085-c8ab-4039-bdd5-4d5e8288d644",
   "metadata": {},
   "outputs": [],
   "source": []
  }
 ],
 "metadata": {
  "kernelspec": {
   "display_name": "Python [conda env:base] *",
   "language": "python",
   "name": "conda-base-py"
  },
  "language_info": {
   "codemirror_mode": {
    "name": "ipython",
    "version": 3
   },
   "file_extension": ".py",
   "mimetype": "text/x-python",
   "name": "python",
   "nbconvert_exporter": "python",
   "pygments_lexer": "ipython3",
   "version": "3.12.7"
  }
 },
 "nbformat": 4,
 "nbformat_minor": 5
}
